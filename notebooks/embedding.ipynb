{
 "cells": [
  {
   "cell_type": "code",
   "execution_count": 9,
   "id": "145e78cd",
   "metadata": {},
   "outputs": [],
   "source": [
    "import pandas as pd\n",
    "import sys\n",
    "sys.path.append('../scripts')\n",
    "from embeding import TextSplitter"
   ]
  },
  {
   "cell_type": "code",
   "execution_count": 10,
   "id": "d2314381",
   "metadata": {},
   "outputs": [
    {
     "name": "stderr",
     "output_type": "stream",
     "text": [
      "/tmp/ipykernel_4773/1117687031.py:1: DtypeWarning: Columns (16) have mixed types. Specify dtype option on import or set low_memory=False.\n",
      "  data = pd.read_csv('../data/filtered_complaints.csv')\n"
     ]
    }
   ],
   "source": [
    "data = pd.read_csv('../data/filtered_complaints.csv')"
   ]
  },
  {
   "cell_type": "code",
   "execution_count": 7,
   "id": "fc9e8f93",
   "metadata": {},
   "outputs": [],
   "source": [
    "splitter = TextSplitter(100, 10, [\"\\n\\n\", \"\\n\", \".\", \" \", \"\"])\n",
    "data['chunks'] = data['cleaned_narrative'].apply(splitter.split)"
   ]
  },
  {
   "cell_type": "code",
   "execution_count": 11,
   "id": "5f519ed9",
   "metadata": {},
   "outputs": [
    {
     "data": {
      "text/plain": [
       "array(['Credit card', 'Money transfers', 'Checking or savings account',\n",
       "       'Payday loan, title loan, personal loan, or advance loan'],\n",
       "      dtype=object)"
      ]
     },
     "execution_count": 11,
     "metadata": {},
     "output_type": "execute_result"
    }
   ],
   "source": [
    "data['Product'].unique()"
   ]
  }
 ],
 "metadata": {
  "kernelspec": {
   "display_name": ".venv",
   "language": "python",
   "name": "python3"
  },
  "language_info": {
   "codemirror_mode": {
    "name": "ipython",
    "version": 3
   },
   "file_extension": ".py",
   "mimetype": "text/x-python",
   "name": "python",
   "nbconvert_exporter": "python",
   "pygments_lexer": "ipython3",
   "version": "3.13.5"
  }
 },
 "nbformat": 4,
 "nbformat_minor": 5
}
